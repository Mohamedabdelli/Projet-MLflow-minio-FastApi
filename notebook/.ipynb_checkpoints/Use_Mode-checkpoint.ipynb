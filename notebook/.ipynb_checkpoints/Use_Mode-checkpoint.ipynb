{
 "cells": [
  {
   "cell_type": "code",
   "execution_count": 1,
   "id": "8d59c814-9e32-4091-9bf7-89df6ba1b99e",
   "metadata": {},
   "outputs": [],
   "source": [
    "import os\n",
    "import mlflow\n"
   ]
  },
  {
   "cell_type": "code",
   "execution_count": 2,
   "id": "7f43c7fd-5ed7-45dc-a1a3-23330947717f",
   "metadata": {},
   "outputs": [],
   "source": [
    "import pandas as pd"
   ]
  },
  {
   "cell_type": "code",
   "execution_count": null,
   "id": "3671ec61-18e2-4fd2-8f35-b98a4c21a922",
   "metadata": {},
   "outputs": [],
   "source": [
    "pd.read_csv('"
   ]
  },
  {
   "cell_type": "code",
   "execution_count": 2,
   "id": "f0798fdd-b9ce-4f28-b80b-7650197a96ec",
   "metadata": {},
   "outputs": [],
   "source": [
    "os.environ['AWS_ACCESS_KEY_ID']='projet_mlops'\n",
    "os.environ['AWS_SECRET_ACCESS_KEY']='projet_mlops'\n",
    "os.environ['MLFLOW_TRACKING_URI']='http://ec2-34-239-128-217.compute-1.amazonaws.com:5000/'\n",
    "os.environ['MLFLOW_S3_ENDPOINT_URL']='http://ec2-34-239-128-217.compute-1.amazonaws.com:9000/'\n",
    "os.environ['AWS_DEFAULT_REGION']=\"us-east-1\""
   ]
  },
  {
   "cell_type": "code",
   "execution_count": 1,
   "id": "98ffc208-6131-4f67-86b8-169d314e9beb",
   "metadata": {},
   "outputs": [],
   "source": []
  },
  {
   "cell_type": "code",
   "execution_count": 3,
   "id": "f258af53-cf32-4e5a-b5eb-aee9b89b72fd",
   "metadata": {},
   "outputs": [],
   "source": [
    "mlflow.set_tracking_uri('http://ec2-34-239-128-217.compute-1.amazonaws.com:5000/')\n"
   ]
  },
  {
   "cell_type": "code",
   "execution_count": 10,
   "id": "bd3d1980-b7c6-430e-9fc2-c2fc04405704",
   "metadata": {},
   "outputs": [],
   "source": [
    "logged_model = 'runs:/5d3bd94c530c4c89af1da181e2a40d84/model'\n",
    "\n",
    "loaded_model = mlflow.pyfunc.load_model(logged_model)"
   ]
  },
  {
   "cell_type": "raw",
   "id": "ee785896",
   "metadata": {},
   "source": [
    "Bonjour , ma carte a été débitée deux fois lors du dernier  achat de carnet tennis , un seul carnet de tennis de 11 séances a été crédité. J?au déjà fait une demande une première fois , la réponse était «  je vois que votre compte a 1 heure » , l?opérateur n?avait donc pas compris le problème j?ai ouvert une deuxième demande insistant que ma carte a été débitée DEUX fois mais j?ai eu un seul carnet , mais je n?ai pas eu de réponse. J?ouvre donc cette troisième demande "
   ]
  },
  {
   "cell_type": "code",
   "execution_count": 11,
   "id": "cadc28ef",
   "metadata": {},
   "outputs": [
    {
     "data": {
      "text/plain": [
       "'Service ne fonctione pas'"
      ]
     },
     "execution_count": 11,
     "metadata": {},
     "output_type": "execute_result"
    }
   ],
   "source": [
    "loaded_model.predict('Bonjour , ma carte a été débitée deux fois lors du dernier  achat de carnet tennis , un seul carnet de tennis de 11 séances a été crédité. J?au déjà fait une demande une première fois , la réponse était «  je vois que votre compte a 1 heure » , l?opérateur n?avait donc pas compris le problème j?ai ouvert une deuxième demande insistant que ma carte a été débitée DEUX fois mais j?ai eu un seul carnet , mais je n?ai pas eu de réponse. J?ouvre donc cette troisième demande . Voici les références ')[0]"
   ]
  },
  {
   "cell_type": "code",
   "execution_count": 13,
   "id": "1fe95fd1-7e90-44be-9870-18a8860e9caa",
   "metadata": {},
   "outputs": [],
   "source": [
    "model_uri =\"models:/classification/Production\"\n",
    "model=mlflow.pyfunc.load_model(model_uri)"
   ]
  },
  {
   "cell_type": "code",
   "execution_count": 14,
   "id": "7ac1333b",
   "metadata": {},
   "outputs": [
    {
     "data": {
      "text/plain": [
       "'Service ne fonctione pas'"
      ]
     },
     "execution_count": 14,
     "metadata": {},
     "output_type": "execute_result"
    }
   ],
   "source": [
    "model.predict('Bonjour , ma carte a été débitée deux fois lors du dernier  achat de carnet tennis , un seul carnet de tennis de 11 séances a été crédité. J?au déjà fait une demande une première fois , la réponse était «  je vois que votre compte a 1 heure » , l?opérateur n?avait donc pas compris le problème j?ai ouvert une deuxième demande insistant que ma carte a été débitée DEUX fois mais j?ai eu un seul carnet , mais je n?ai pas eu de réponse. J?ouvre donc cette troisième demande . Voici les références ')[0]"
   ]
  },
  {
   "cell_type": "code",
   "execution_count": null,
   "id": "9671b272",
   "metadata": {},
   "outputs": [],
   "source": []
  }
 ],
 "metadata": {
  "kernelspec": {
   "display_name": "Python 3 (ipykernel)",
   "language": "python",
   "name": "python3"
  },
  "language_info": {
   "codemirror_mode": {
    "name": "ipython",
    "version": 3
   },
   "file_extension": ".py",
   "mimetype": "text/x-python",
   "name": "python",
   "nbconvert_exporter": "python",
   "pygments_lexer": "ipython3",
   "version": "3.10.12"
  }
 },
 "nbformat": 4,
 "nbformat_minor": 5
}
