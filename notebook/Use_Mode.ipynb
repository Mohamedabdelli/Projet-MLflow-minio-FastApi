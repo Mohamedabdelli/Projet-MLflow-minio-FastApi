{
 "cells": [
  {
   "cell_type": "code",
   "execution_count": 1,
   "id": "8d59c814-9e32-4091-9bf7-89df6ba1b99e",
   "metadata": {},
   "outputs": [],
   "source": [
    "import os\n",
    "import mlflow\n"
   ]
  },
  {
   "cell_type": "code",
   "execution_count": 2,
   "id": "7f43c7fd-5ed7-45dc-a1a3-23330947717f",
   "metadata": {},
   "outputs": [],
   "source": [
    "import pandas as pd"
   ]
  },
  {
   "cell_type": "code",
   "execution_count": 4,
   "id": "0c65b198",
   "metadata": {},
   "outputs": [
    {
     "name": "stdout",
     "output_type": "stream",
     "text": [
      "mlflow, version 2.4.2\r\n"
     ]
    }
   ],
   "source": [
    "!mlflow --version"
   ]
  },
  {
   "cell_type": "markdown",
   "id": "9eab4b32-08a4-4fda-9a2e-97559564599a",
   "metadata": {},
   "source": [
    "## Data"
   ]
  },
  {
   "cell_type": "code",
   "execution_count": 3,
   "id": "3671ec61-18e2-4fd2-8f35-b98a4c21a922",
   "metadata": {},
   "outputs": [
    {
     "data": {
      "text/html": [
       "<div>\n",
       "<style scoped>\n",
       "    .dataframe tbody tr th:only-of-type {\n",
       "        vertical-align: middle;\n",
       "    }\n",
       "\n",
       "    .dataframe tbody tr th {\n",
       "        vertical-align: top;\n",
       "    }\n",
       "\n",
       "    .dataframe thead th {\n",
       "        text-align: right;\n",
       "    }\n",
       "</style>\n",
       "<table border=\"1\" class=\"dataframe\">\n",
       "  <thead>\n",
       "    <tr style=\"text-align: right;\">\n",
       "      <th></th>\n",
       "      <th>Comment</th>\n",
       "      <th>Sous catégorie 1</th>\n",
       "    </tr>\n",
       "  </thead>\n",
       "  <tbody>\n",
       "    <tr>\n",
       "      <th>0</th>\n",
       "      <td>Bonjour , ma carte a été débitée deux fois lor...</td>\n",
       "      <td>Service ne fonctione pas</td>\n",
       "    </tr>\n",
       "    <tr>\n",
       "      <th>1</th>\n",
       "      <td>Bonjour,  J'ai besoin de renouveler mon passep...</td>\n",
       "      <td>Pb de suivi / Délai</td>\n",
       "    </tr>\n",
       "    <tr>\n",
       "      <th>2</th>\n",
       "      <td>Bonjour;  J?ai poursuivi lors du 1er semestre ...</td>\n",
       "      <td>Pb de suivi / Délai</td>\n",
       "    </tr>\n",
       "    <tr>\n",
       "      <th>3</th>\n",
       "      <td>Bonjour cela fait déjà presque 1 mois que j?ai...</td>\n",
       "      <td>Pb de suivi / Délai</td>\n",
       "    </tr>\n",
       "    <tr>\n",
       "      <th>4</th>\n",
       "      <td>Bonjour J attends un retour pour ma demande de...</td>\n",
       "      <td>Pb de suivi / Délai</td>\n",
       "    </tr>\n",
       "    <tr>\n",
       "      <th>...</th>\n",
       "      <td>...</td>\n",
       "      <td>...</td>\n",
       "    </tr>\n",
       "    <tr>\n",
       "      <th>162</th>\n",
       "      <td>Bonjour,  Je me permets de vous contacter au s...</td>\n",
       "      <td>Pb de suivi / Délai</td>\n",
       "    </tr>\n",
       "    <tr>\n",
       "      <th>163</th>\n",
       "      <td>Bonjour,  je n'ai pas reçu de confirmation con...</td>\n",
       "      <td>Pb de suivi / Délai</td>\n",
       "    </tr>\n",
       "    <tr>\n",
       "      <th>164</th>\n",
       "      <td>Bonjour,  Le 11 novembre 1111, j'ai adressé un...</td>\n",
       "      <td>Pb de suivi / Délai</td>\n",
       "    </tr>\n",
       "    <tr>\n",
       "      <th>165</th>\n",
       "      <td>Bonjour, Je reviens vers vous car mon dossier ...</td>\n",
       "      <td>Pb de suivi / Délai</td>\n",
       "    </tr>\n",
       "    <tr>\n",
       "      <th>166</th>\n",
       "      <td>Bonjour, J'aimerais connaître le délai d'instr...</td>\n",
       "      <td>Pb de suivi / Délai</td>\n",
       "    </tr>\n",
       "  </tbody>\n",
       "</table>\n",
       "<p>167 rows × 2 columns</p>\n",
       "</div>"
      ],
      "text/plain": [
       "                                               Comment  \\\n",
       "0    Bonjour , ma carte a été débitée deux fois lor...   \n",
       "1    Bonjour,  J'ai besoin de renouveler mon passep...   \n",
       "2    Bonjour;  J?ai poursuivi lors du 1er semestre ...   \n",
       "3    Bonjour cela fait déjà presque 1 mois que j?ai...   \n",
       "4    Bonjour J attends un retour pour ma demande de...   \n",
       "..                                                 ...   \n",
       "162  Bonjour,  Je me permets de vous contacter au s...   \n",
       "163  Bonjour,  je n'ai pas reçu de confirmation con...   \n",
       "164  Bonjour,  Le 11 novembre 1111, j'ai adressé un...   \n",
       "165  Bonjour, Je reviens vers vous car mon dossier ...   \n",
       "166  Bonjour, J'aimerais connaître le délai d'instr...   \n",
       "\n",
       "             Sous catégorie 1  \n",
       "0    Service ne fonctione pas  \n",
       "1         Pb de suivi / Délai  \n",
       "2         Pb de suivi / Délai  \n",
       "3         Pb de suivi / Délai  \n",
       "4         Pb de suivi / Délai  \n",
       "..                        ...  \n",
       "162       Pb de suivi / Délai  \n",
       "163       Pb de suivi / Délai  \n",
       "164       Pb de suivi / Délai  \n",
       "165       Pb de suivi / Délai  \n",
       "166       Pb de suivi / Délai  \n",
       "\n",
       "[167 rows x 2 columns]"
      ]
     },
     "execution_count": 3,
     "metadata": {},
     "output_type": "execute_result"
    }
   ],
   "source": [
    "pd.read_csv('https://minio.lab.sspcloud.fr/mabdelli/mlflow/exercice1.csv')"
   ]
  },
  {
   "cell_type": "markdown",
   "id": "34900a5e-4cfe-4641-956d-e092afd9b4ce",
   "metadata": {},
   "source": [
    "## Environement"
   ]
  },
  {
   "cell_type": "code",
   "execution_count": 5,
   "id": "f0798fdd-b9ce-4f28-b80b-7650197a96ec",
   "metadata": {},
   "outputs": [],
   "source": [
    "os.environ['AWS_ACCESS_KEY_ID']='projet_mlops'\n",
    "os.environ['AWS_SECRET_ACCESS_KEY']='projet_mlops'\n",
    "os.environ['MLFLOW_TRACKING_URI']='http://adress_ip:5000/'\n",
    "os.environ['MLFLOW_S3_ENDPOINT_URL']='http://adress_ip:9000/'\n",
    "os.environ['AWS_DEFAULT_REGION']=\"us-east-1\""
   ]
  },
  {
   "cell_type": "code",
   "execution_count": 6,
   "id": "f258af53-cf32-4e5a-b5eb-aee9b89b72fd",
   "metadata": {},
   "outputs": [],
   "source": [
    "mlflow.set_tracking_uri('http://adress_ip:5000/')\n"
   ]
  },
  {
   "cell_type": "markdown",
   "id": "14017750-3859-410d-aa43-c46cdc97f6fd",
   "metadata": {},
   "source": [
    "## Load the model using its identifier."
   ]
  },
  {
   "cell_type": "code",
   "execution_count": 11,
   "id": "bd3d1980-b7c6-430e-9fc2-c2fc04405704",
   "metadata": {},
   "outputs": [
    {
     "name": "stderr",
     "output_type": "stream",
     "text": [
      "2024/01/08 21:09:34 WARNING mlflow.pyfunc: Detected one or more mismatches between the model's dependencies and the current Python environment:\n",
      " - mlflow (current: 2.4.2, required: mlflow==2.4)\n",
      "To fix the mismatches, call `mlflow.pyfunc.get_model_dependencies(model_uri)` to fetch the model's environment and install dependencies using the resulting environment file.\n"
     ]
    }
   ],
   "source": [
    "logged_model = 'runs:/b332cdee525446bfad9a7fbec8911f93/model'\n",
    "loaded_model = mlflow.pyfunc.load_model(logged_model)"
   ]
  },
  {
   "cell_type": "code",
   "execution_count": 9,
   "id": "609ff829-991e-4acc-b79a-9f98195f3f09",
   "metadata": {},
   "outputs": [],
   "source": [
    "comment='Bonjour , ma carte a été débitée deux fois lors du dernier  achat de carnet tennis , un seul carnet de tennis de 11 séances a été crédité. J?au déjà fait une demande une première fois , la réponse était «  je vois que votre compte a 1 heure » , l?opérateur n?avait donc pas compris le problème j?ai ouvert une deuxième demande insistant que ma carte a été débitée DEUX fois mais j?ai eu un seul carnet , mais je n?ai pas eu de réponse. J?ouvre donc cette troisième demande'"
   ]
  },
  {
   "cell_type": "code",
   "execution_count": 10,
   "id": "cadc28ef",
   "metadata": {},
   "outputs": [
    {
     "data": {
      "text/plain": [
       "'Service ne fonctione pas'"
      ]
     },
     "execution_count": 10,
     "metadata": {},
     "output_type": "execute_result"
    }
   ],
   "source": [
    "loaded_model.predict(comment)[0]"
   ]
  },
  {
   "cell_type": "markdown",
   "id": "330875d6-41b3-428b-8f15-ae9855ef3bde",
   "metadata": {},
   "source": [
    "## Load a model deployed in production."
   ]
  },
  {
   "cell_type": "code",
   "execution_count": 9,
   "id": "1fe95fd1-7e90-44be-9870-18a8860e9caa",
   "metadata": {},
   "outputs": [
    {
     "name": "stderr",
     "output_type": "stream",
     "text": [
      "2024/01/08 21:05:43 WARNING mlflow.pyfunc: Detected one or more mismatches between the model's dependencies and the current Python environment:\n",
      " - mlflow (current: 2.4.2, required: mlflow==2.4)\n",
      "To fix the mismatches, call `mlflow.pyfunc.get_model_dependencies(model_uri)` to fetch the model's environment and install dependencies using the resulting environment file.\n"
     ]
    }
   ],
   "source": [
    "model_uri =\"models:/classification/Production\"\n",
    "model=mlflow.pyfunc.load_model(model_uri)"
   ]
  },
  {
   "cell_type": "code",
   "execution_count": 10,
   "id": "7ac1333b",
   "metadata": {},
   "outputs": [
    {
     "data": {
      "text/plain": [
       "'Service ne fonctione pas'"
      ]
     },
     "execution_count": 10,
     "metadata": {},
     "output_type": "execute_result"
    }
   ],
   "source": [
    "model.predict(comment)[0]"
   ]
  },
  {
   "cell_type": "code",
   "execution_count": null,
   "id": "9671b272",
   "metadata": {},
   "outputs": [],
   "source": []
  }
 ],
 "metadata": {
  "kernelspec": {
   "display_name": "Python 3 (ipykernel)",
   "language": "python",
   "name": "python3"
  },
  "language_info": {
   "codemirror_mode": {
    "name": "ipython",
    "version": 3
   },
   "file_extension": ".py",
   "mimetype": "text/x-python",
   "name": "python",
   "nbconvert_exporter": "python",
   "pygments_lexer": "ipython3",
   "version": "3.9.7"
  }
 },
 "nbformat": 4,
 "nbformat_minor": 5
}
